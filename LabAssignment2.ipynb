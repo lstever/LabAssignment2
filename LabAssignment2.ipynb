{
 "cells": [
  {
   "cell_type": "markdown",
   "metadata": {},
   "source": [
    "Student Name: Luke Steverango, Student #: 260570652"
   ]
  },
  {
   "cell_type": "code",
   "execution_count": 13,
   "metadata": {},
   "outputs": [],
   "source": [
    "import random as random\n",
    "import numpy as np\n",
    "import operator\n",
    "import copy\n",
    "import matplotlib.pyplot as plt\n",
    "from PIL import Image"
   ]
  },
  {
   "cell_type": "code",
   "execution_count": 22,
   "metadata": {},
   "outputs": [],
   "source": [
    "def generator(n):\n",
    "  M = [] #Define the matrix\n",
    "  for i in range(0, n):\n",
    "    j = [random.uniform(-1,1) for x in range(0, n)]  #Generate row\n",
    "    M.append(j) #Add it to the matrix\n",
    "  return M\n",
    "\n",
    "def gaussian(M):\n",
    "  n = len(M[0])\n",
    "  # Start gaussian elimination\n",
    "\n",
    "  for i in range(0, n):\n",
    "  # Search for maximum in this column\n",
    "    max_el = abs(M[i][i])\n",
    "    max_row = i\n",
    "    for k in range(i+1, n):\n",
    "      if abs(M[k][i]) > max_el:\n",
    "       max_el = abs(M[k][i])\n",
    "       max_row = k\n",
    "\n",
    "  # Swap maximum row with current row (column by column)\n",
    "  for k in range(i, n):\n",
    "    tmp = M[max_row][k]\n",
    "    M[max_row][k] = M[i][k]\n",
    "    M[i][k] = tmp\n",
    "    \n",
    "  for i in range(0, n):\n",
    "    for j in range(i+1, n):\n",
    "      factor = M[j][i]/M[i][i]\n",
    "      temp = [factor * x for x in M[i]] # Creates temp row to subtract\n",
    "      M[j] = list(map(operator.sub, M[j], temp)) # Performs row subtraction\n",
    "  # Note: You can fix the really small numbers in the matrix by just replacing them with 0s with the following code:\n",
    "  for i in range(1, n):\n",
    "    for j in range(i+1, n):\n",
    "      M[j][i] = 0.0\n",
    "  return M\n",
    "\n",
    "# The following is the code for the growth factor\n",
    "def growth(M):\n",
    "  n = len(M[0])\n",
    "  maxA = 0.0\n",
    "  for i in range(0,n):\n",
    "    for j in range(0,n):\n",
    "      if abs(M[i][j]) > maxA:\n",
    "        maxA = abs(M[i][j])\n",
    "  \n",
    "  A = gaussian(M)\n",
    "  maxU = 0.0\n",
    "  for i in range(0,n):\n",
    "    for j in range(0,n):\n",
    "      if abs(A[i][j]) > maxU:\n",
    "        maxU = abs(A[i][j])\n",
    "  \n",
    "  return maxU/maxA"
   ]
  },
  {
   "cell_type": "markdown",
   "metadata": {},
   "source": [
    "To test to see if the above code works we will generate a $5x5$ matrix from it below and then perform Gaussian elimination on it:"
   ]
  },
  {
   "cell_type": "code",
   "execution_count": 23,
   "metadata": {},
   "outputs": [
    {
     "name": "stdout",
     "output_type": "stream",
     "text": [
      "[[-0.3469664247411903, 0.5332974945697333, 0.7871735788487408, -0.8180268441645786, 0.8270343466993748], [-0.1795251972881684, -0.00015462775040187005, 0.48756870429954846, 0.3570440007879152, -0.21159146915341598], [-0.9466198611192664, -0.29282254851826073, -0.60030655344891, -0.854632236118672, 0.9963461289922622], [-0.9284209014004448, -0.26999521511906943, -0.7866275272286294, 0.40056404337932716, 0.7951356674554635], [0.622170768935036, -0.34177656455380023, -0.5274333322096942, 0.2681867769783377, -0.8709155260634001]]\n",
      "[[-0.3469664247411903, 0.5332974945697333, 0.7871735788487408, -0.8180268441645786, 0.8270343466993748], [0.0, -0.27609008172792165, 0.0802742747354616, 0.7803023339110903, -0.6395104078981269], [0.0, 0.0, -3.2561137502829958, -3.5625807057562935, 2.788427917410521], [0.0, 0.0, 0.0, 1.4983850457714059, -0.38705120621657196], [-3.0814879110195774e-33, 0.0, 0.0, 0.0, -0.06255321252993241]]\n"
     ]
    }
   ],
   "source": [
    "E = generator(5)\n",
    "print(E)\n",
    "gaussian(E)\n",
    "print(gaussian(E))"
   ]
  },
  {
   "cell_type": "markdown",
   "metadata": {},
   "source": [
    "A general note, for the Gaussian eliminated matrices there are numbers in this code that appear in the lower triangular part which should be zeros. However, these numbers are really small and are a result of general rounding error. These numbers as a result of their size, won't affect any of the plots since the growth number is taken as the max of the absolute value of all entries in a given matrix in relation to its upper triangular matrix form."
   ]
  },
  {
   "cell_type": "code",
   "execution_count": 26,
   "metadata": {},
   "outputs": [],
   "source": [
    "def newMatrix(n):\n",
    "    M=np.random.uniform(-1,1,(n,n))\n",
    "    return M"
   ]
  },
  {
   "cell_type": "markdown",
   "metadata": {},
   "source": [
    "Another note, for the plots of the growth factor in relation to the sizes of matrices, I used this function to make my matrices instead, as the original function took too long for the plots to be produced."
   ]
  },
  {
   "cell_type": "code",
   "execution_count": 27,
   "metadata": {},
   "outputs": [],
   "source": [
    "def gaussian(M):\n",
    "  n = len(M[0])\n",
    "  # Start gaussian elimination\n",
    "\n",
    "  for i in range(0, n):\n",
    "  # Search for maximum in this column\n",
    "    max_el = abs(M[i][i])\n",
    "    max_row = i\n",
    "    for k in range(i+1, n):\n",
    "      if abs(M[k][i]) > max_el:\n",
    "       max_el = abs(M[k][i])\n",
    "       max_row = k\n",
    "\n",
    "  # Swap maximum row with current row (column by column)\n",
    "  for k in range(i, n):\n",
    "    tmp = M[max_row][k]\n",
    "    M[max_row][k] = M[i][k]\n",
    "    M[i][k] = tmp\n",
    "    \n",
    "  for i in range(0, n):\n",
    "    for j in range(i+1, n):\n",
    "      factor = M[j][i]/M[i][i]\n",
    "      temp = [factor * x for x in M[i]] # Creates temp row to subtract\n",
    "      M[j] = list(map(operator.sub, M[j], temp)) # Performs row subtraction\n",
    "  # Note: You can fix the really small numbers in the matrix by just replacing them with 0s with the following code:\n",
    "  for i in range(1, n):\n",
    "    for j in range(i+1, n):\n",
    "      M[j][i] = 0.0\n",
    "  return M\n",
    "\n",
    "# Note: You can fix the really small numbers in the matrix by just replacing them with 0s with the following code:\n",
    "def growth(M):\n",
    "  n = len(M[0])\n",
    "  maxA = 0.0\n",
    "  for i in range(0,n):\n",
    "    for j in range(0,n):\n",
    "      if abs(M[i][j]) > maxA:\n",
    "        maxA = abs(M[i][j])\n",
    "  \n",
    "  A = gaussian(M)\n",
    "  maxU = 0.0\n",
    "  for i in range(0,n):\n",
    "    for j in range(0,n):\n",
    "      if abs(A[i][j]) > maxU:\n",
    "        maxU = abs(A[i][j])\n",
    "  \n",
    "  return maxU/maxA"
   ]
  },
  {
   "cell_type": "code",
   "execution_count": 28,
   "metadata": {},
   "outputs": [],
   "source": [
    "ListofMatrices = []\n",
    "for n in range(10, 750, 10):\n",
    "    ListofMatrices.append(newMatrix(n))"
   ]
  },
  {
   "cell_type": "code",
   "execution_count": null,
   "metadata": {},
   "outputs": [],
   "source": [
    "Factors = []\n",
    "for x in ListofMatrices:\n",
    "    Factors.append(growth(x))"
   ]
  },
  {
   "cell_type": "markdown",
   "metadata": {},
   "source": [
    "These two cells above, create a list of matrices of the respective ranges, and then calculate the growth rates and add them to their own growth rate list. We then plot the corresponding growth rates in relation to their matrix size below in a log plot. "
   ]
  },
  {
   "cell_type": "code",
   "execution_count": 6,
   "metadata": {},
   "outputs": [
    {
     "data": {
      "image/png": "[encoded data removed]",
      "text/plain": [
       "<matplotlib.figure.Figure at 0x25d47319908>"
      ]
     },
     "metadata": {},
     "output_type": "display_data"
    }
   ],
   "source": [
    "xvalues = np.array(range(10, 500, 10))\n",
    "yvalues = np.array(Factors)\n",
    "plt.plot(np.log(xvalues).flatten(), np.log(yvalues))\n",
    "plt.title('Growth Factor by Matrix Size')\n",
    "plt.xlabel('log(Matrix Size (n))')\n",
    "plt.ylabel('log(Growth Factor)')\n",
    "plt.show()"
   ]
  },
  {
   "cell_type": "markdown",
   "metadata": {},
   "source": [
    "As we note from the graph, the larger the size, the greater the growth factor. It is approximately like $cn^{\\alpha}$ for $\\alpha \\approx 0.5$ to $0.7$ and $c \\in [2,4]$ . One thing to note is that the graph is very noisy. This is probably due to the fact that we are sampling from a uniform distribution, and thus with no skew and equally likely values, the graph has the potential for higher levels of change per matrix when we sample them. Compared to the worst case scenario of $2^n$ this is rather good, as $2^n >> cn^{\\alpha}$, for the $c$ and $\\alpha$ values chosen. Note, because of the time it takes for the code to run, the graph was done with $500$ as the largest matrix sampled, not $1000$."
   ]
  },
  {
   "cell_type": "markdown",
   "metadata": {},
   "source": [
    "Below are samples for matrices of size, $n = 10,20,40$, and $80$. We sample $1000, 750, 400$, and $200$, respectively."
   ]
  },
  {
   "cell_type": "code",
   "execution_count": 105,
   "metadata": {},
   "outputs": [],
   "source": [
    "GrowthFactorofMat = []\n",
    "for x in range(1000):\n",
    "    GrowthFactorofMat.append(growth(generator(10)))"
   ]
  },
  {
   "cell_type": "code",
   "execution_count": 106,
   "metadata": {},
   "outputs": [
    {
     "data": {
      "image/png": "[encoded data removed]",
      "text/plain": [
       "<matplotlib.figure.Figure at 0x2cf186036a0>"
      ]
     },
     "metadata": {},
     "output_type": "display_data"
    }
   ],
   "source": [
    "plt.hist(np.log(GrowthFactorofMat),bins='auto')\n",
    "plt.title('n=10, uniform')\n",
    "plt.xlabel('Growth Factors')\n",
    "plt.ylabel('# of Matrices in ')\n",
    "plt.show()"
   ]
  },
  {
   "cell_type": "code",
   "execution_count": 107,
   "metadata": {},
   "outputs": [],
   "source": [
    "GrowthFactorofMat = []\n",
    "for x in range(750):\n",
    "    GrowthFactorofMat.append(growth(generator(20)))"
   ]
  },
  {
   "cell_type": "code",
   "execution_count": 108,
   "metadata": {},
   "outputs": [
    {
     "data": {
      "image/png": "[encoded data removed]",
      "text/plain": [
       "<matplotlib.figure.Figure at 0x2cf0841f588>"
      ]
     },
     "metadata": {},
     "output_type": "display_data"
    }
   ],
   "source": [
    "plt.hist(np.log(GrowthFactorofMat),bins='auto')\n",
    "plt.title('n=20, uniform')\n",
    "plt.xlabel('Growth Factors')\n",
    "plt.ylabel('# of Matrices in ')\n",
    "plt.show()"
   ]
  },
  {
   "cell_type": "code",
   "execution_count": 109,
   "metadata": {},
   "outputs": [],
   "source": [
    "GrowthFactorofMat = []\n",
    "for x in range(400):\n",
    "    GrowthFactorofMat.append(growth(generator(40)))"
   ]
  },
  {
   "cell_type": "code",
   "execution_count": 110,
   "metadata": {},
   "outputs": [
    {
     "data": {
      "image/png": "[encoded data removed]",
      "text/plain": [
       "<matplotlib.figure.Figure at 0x2cf0979f198>"
      ]
     },
     "metadata": {},
     "output_type": "display_data"
    }
   ],
   "source": [
    "plt.hist(np.log(GrowthFactorofMat),bins='auto')\n",
    "plt.title('n=40, uniform')\n",
    "plt.xlabel('Growth Factors')\n",
    "plt.ylabel('# of Matrices in ')\n",
    "plt.show()"
   ]
  },
  {
   "cell_type": "code",
   "execution_count": 111,
   "metadata": {},
   "outputs": [],
   "source": [
    "GrowthFactorofMat = []\n",
    "for x in range(200):\n",
    "    GrowthFactorofMat.append(growth(generator(80)))"
   ]
  },
  {
   "cell_type": "code",
   "execution_count": 112,
   "metadata": {},
   "outputs": [
    {
     "data": {
      "image/png": "[encoded data removed]",
      "text/plain": [
       "<matplotlib.figure.Figure at 0x2cf098afa90>"
      ]
     },
     "metadata": {},
     "output_type": "display_data"
    }
   ],
   "source": [
    "plt.hist(np.log(GrowthFactorofMat),bins='auto')\n",
    "plt.title('n=80, uniform')\n",
    "plt.xlabel('Growth Factors')\n",
    "plt.ylabel('# of Matrices in ')\n",
    "plt.show()"
   ]
  },
  {
   "cell_type": "markdown",
   "metadata": {},
   "source": [
    "As can be seen in all $4$ plots, the graphs skew from left to right. However, ignoring the skew they in general look rather bell shaped in appearance. This leads me to believe that it is a right (positive) skew-normal distribution. The distribution is shown to decay rather rapidly meaning the number of high growth factor matrices are small."
   ]
  },
  {
   "cell_type": "markdown",
   "metadata": {},
   "source": [
    "We now repeat this whole process for matrices with entries sampled from a normal distribution."
   ]
  },
  {
   "cell_type": "code",
   "execution_count": 29,
   "metadata": {},
   "outputs": [],
   "source": [
    "def generatorNormal(n):\n",
    "  M = [] #Define the matrix\n",
    "  for i in range(0, n):\n",
    "    j = [random.normalvariate(0,1) for x in range(0, n)]  #Generate a row\n",
    "    M.append(j) #Add it to the matrix\n",
    "  return M\n",
    "\n",
    "def gaussian(M):\n",
    "  n = len(M[0])\n",
    "  # Start gaussian elimination\n",
    "\n",
    "  for i in range(0, n):\n",
    "  # Search for maximum in this column\n",
    "    max_el = abs(M[i][i])\n",
    "    max_row = i\n",
    "    for k in range(i+1, n):\n",
    "      if abs(M[k][i]) > max_el:\n",
    "       max_el = abs(M[k][i])\n",
    "       max_row = k\n",
    "\n",
    "  # Swap maximum row with current row (column by column)\n",
    "  for k in range(i, n):\n",
    "    tmp = M[max_row][k]\n",
    "    M[max_row][k] = M[i][k]\n",
    "    M[i][k] = tmp\n",
    "    \n",
    "  for i in range(0, n):\n",
    "    for j in range(i+1, n):\n",
    "      factor = M[j][i]/M[i][i]\n",
    "      temp = [factor * x for x in M[i]] # Creates temp row to subtract\n",
    "      M[j] = list(map(operator.sub, M[j], temp)) # Performs row subtraction\n",
    "  # Note: You can fix the really small numbers in the matrix by just replacing them with 0s with the following code:\n",
    "  for i in range(1, n):\n",
    "    for j in range(i+1, n):\n",
    "      M[j][i] = 0.0\n",
    "  return M\n",
    "\n",
    "def growth(M):\n",
    "  n = len(M[0])\n",
    "  maxA = 0.0\n",
    "  for i in range(0,n):\n",
    "    for j in range(0,n):\n",
    "      if abs(M[i][j]) > maxA:\n",
    "        maxA = abs(M[i][j])\n",
    "  \n",
    "  A = gaussian(M)\n",
    "  maxU = 0.0\n",
    "  for i in range(0,n):\n",
    "    for j in range(0,n):\n",
    "      if abs(A[i][j]) > maxU:\n",
    "        maxU = abs(A[i][j])\n",
    "  \n",
    "  return maxU/maxA"
   ]
  },
  {
   "cell_type": "markdown",
   "metadata": {},
   "source": [
    "We again use the below modified function to create the plot comparing matrix size to growth factor due to how slow the code runs for my other code."
   ]
  },
  {
   "cell_type": "code",
   "execution_count": 3,
   "metadata": {},
   "outputs": [],
   "source": [
    "def newMatrixNormal(n):\n",
    "    M=np.random.normal(0,1,(n,n))\n",
    "    return M"
   ]
  },
  {
   "cell_type": "code",
   "execution_count": 4,
   "metadata": {},
   "outputs": [],
   "source": [
    "def gaussian(M):\n",
    "  n = len(M[0])\n",
    "  # Start gaussian elimination\n",
    "\n",
    "  for i in range(0, n):\n",
    "  # Search for maximum in this column\n",
    "    max_el = abs(M[i][i])\n",
    "    max_row = i\n",
    "    for k in range(i+1, n):\n",
    "      if abs(M[k][i]) > max_el:\n",
    "       max_el = abs(M[k][i])\n",
    "       max_row = k\n",
    "\n",
    "  # Swap maximum row with current row (column by column)\n",
    "  for k in range(i, n):\n",
    "    tmp = M[max_row][k]\n",
    "    M[max_row][k] = M[i][k]\n",
    "    M[i][k] = tmp\n",
    "    \n",
    "  for i in range(0, n):\n",
    "    for j in range(i+1, n):\n",
    "      factor = M[j][i]/M[i][i]\n",
    "      temp = [factor * x for x in M[i]] # Creates temp row to subtract\n",
    "      M[j] = list(map(operator.sub, M[j], temp)) # Performs row subtraction\n",
    "  # Note: You can fix the really small numbers in the matrix by just replacing them with 0s with the following code:\n",
    "  for i in range(1, n):\n",
    "    for j in range(i+1, n):\n",
    "      M[j][i] = 0.0\n",
    "  return M\n",
    "\n",
    "def growth(M):\n",
    "  n = len(M[0])\n",
    "  maxA = 0.0\n",
    "  for i in range(0,n):\n",
    "    for j in range(0,n):\n",
    "      if abs(M[i][j]) > maxA:\n",
    "        maxA = abs(M[i][j])\n",
    "  \n",
    "  A = gaussian(M)\n",
    "  maxU = 0.0\n",
    "  for i in range(0,n):\n",
    "    for j in range(0,n):\n",
    "      if abs(A[i][j]) > maxU:\n",
    "        maxU = abs(A[i][j])\n",
    "  \n",
    "  return maxU/maxA"
   ]
  },
  {
   "cell_type": "code",
   "execution_count": 6,
   "metadata": {},
   "outputs": [],
   "source": [
    "ListofMatricesNormal = []\n",
    "for n in range(10, 500, 10):\n",
    "    ListofMatricesNormal.append(newMatrixNormal(n))"
   ]
  },
  {
   "cell_type": "code",
   "execution_count": 7,
   "metadata": {},
   "outputs": [],
   "source": [
    "FactorsNormal = []\n",
    "for x in ListofMatricesNormal:\n",
    "    FactorsNormal.append(growth(x))"
   ]
  },
  {
   "cell_type": "code",
   "execution_count": 8,
   "metadata": {},
   "outputs": [
    {
     "data": {
      "image/png": "[encoded data removed]",
      "text/plain": [
       "<matplotlib.figure.Figure at 0x219d4057cc0>"
      ]
     },
     "metadata": {},
     "output_type": "display_data"
    }
   ],
   "source": [
    "xvalues = np.array(range(10, 500, 10))\n",
    "yvalues = np.array(FactorsNormal)\n",
    "plt.plot(np.log(xvalues).flatten(), np.log(yvalues))\n",
    "plt.title('Growth Factor by Matrix Size')\n",
    "plt.xlabel('log(Matrix Size (n))')\n",
    "plt.ylabel('log(Growth Factor)')\n",
    "plt.show()"
   ]
  },
  {
   "cell_type": "markdown",
   "metadata": {},
   "source": [
    "We note the for the normal plots, the graph is rather similar with some key differences. It seems to be approximated by a $cn^{\\alpha}$ where $\\alpha \\approx 0.8$ and $c \\in [2,3]$. We also note that there is less noise that seems to appear, probably due to the fact that we are sampling from a $N(0,1)$ distribution, so values that are concentrated near $0$ are chosen with higher probability, leading to nicer values for the Gaussian elimination process to work with. We also note, that in comparison to the worst case, $2^n$, $2^n >> cn^{\\alpha}$ for $c,\\alpha$ chosen above, and thus the time taken is much more favourable in general."
   ]
  },
  {
   "cell_type": "markdown",
   "metadata": {},
   "source": [
    "Below we repeat the process of testing for fixed $nxn$ matrices with $n = 10,20,40$, and $80$. We work with samples of $1000, 750, 400$, and $200$ again respectively."
   ]
  },
  {
   "cell_type": "code",
   "execution_count": 4,
   "metadata": {},
   "outputs": [],
   "source": [
    "GrowthFactorofMatNormal = []\n",
    "for x in range(1000):\n",
    "    GrowthFactorofMatNormal.append(growth(generatorNormal(10)))"
   ]
  },
  {
   "cell_type": "code",
   "execution_count": 5,
   "metadata": {},
   "outputs": [
    {
     "data": {
      "image/png": "[encoded data removed]",
      "text/plain": [
       "<matplotlib.figure.Figure at 0x2241b197dd8>"
      ]
     },
     "metadata": {},
     "output_type": "display_data"
    }
   ],
   "source": [
    "plt.hist(np.log(GrowthFactorofMatNormal),bins='auto')\n",
    "plt.title('n=10, Normal')\n",
    "plt.xlabel('Growth Factors')\n",
    "plt.ylabel('# of Matrices in ')\n",
    "plt.show()"
   ]
  },
  {
   "cell_type": "code",
   "execution_count": 30,
   "metadata": {},
   "outputs": [],
   "source": [
    "GrowthFactorofMatNormal = []\n",
    "for x in range(750):\n",
    "    GrowthFactorofMatNormal.append(growth(generatorNormal(20)))"
   ]
  },
  {
   "cell_type": "code",
   "execution_count": 31,
   "metadata": {},
   "outputs": [
    {
     "data": {
      "image/png": "[encoded data removed]",
      "text/plain": [
       "<matplotlib.figure.Figure at 0x219d84bc198>"
      ]
     },
     "metadata": {},
     "output_type": "display_data"
    }
   ],
   "source": [
    "plt.hist(np.log(GrowthFactorofMatNormal),bins='auto')\n",
    "plt.title('n=20, Normal')\n",
    "plt.xlabel('Growth Factors')\n",
    "plt.ylabel('# of Matrices in ')\n",
    "plt.show()"
   ]
  },
  {
   "cell_type": "code",
   "execution_count": 8,
   "metadata": {},
   "outputs": [],
   "source": [
    "GrowthFactorofMatNormal = []\n",
    "for x in range(400):\n",
    "    GrowthFactorofMatNormal.append(growth(generatorNormal(40)))"
   ]
  },
  {
   "cell_type": "code",
   "execution_count": 9,
   "metadata": {},
   "outputs": [
    {
     "data": {
      "image/png": "[encoded data removed]",
      "text/plain": [
       "<matplotlib.figure.Figure at 0x2241b3b7908>"
      ]
     },
     "metadata": {},
     "output_type": "display_data"
    }
   ],
   "source": [
    "plt.hist(np.log(GrowthFactorofMatNormal),bins='auto')\n",
    "plt.title('n=40, Normal')\n",
    "plt.xlabel('Growth Factors')\n",
    "plt.ylabel('# of Matrices in ')\n",
    "plt.show()"
   ]
  },
  {
   "cell_type": "code",
   "execution_count": 10,
   "metadata": {},
   "outputs": [],
   "source": [
    "GrowthFactorofMatNormal = []\n",
    "for x in range(200):\n",
    "    GrowthFactorofMatNormal.append(growth(generatorNormal(80)))"
   ]
  },
  {
   "cell_type": "code",
   "execution_count": 11,
   "metadata": {},
   "outputs": [
    {
     "data": {
      "image/png": "[encoded data removed]",
      "text/plain": [
       "<matplotlib.figure.Figure at 0x2241b6bda58>"
      ]
     },
     "metadata": {},
     "output_type": "display_data"
    }
   ],
   "source": [
    "plt.hist(np.log(GrowthFactorofMatNormal),bins='auto')\n",
    "plt.title('n=80, Normal')\n",
    "plt.xlabel('Growth Factors')\n",
    "plt.ylabel('# of Matrices in ')\n",
    "plt.show()"
   ]
  },
  {
   "cell_type": "markdown",
   "metadata": {},
   "source": [
    "We note that again the above plots come out very similar to the uniform plots for fixed $nxn$ matrices. They seem to resemble again, right (positive) skew-symmetric normal distributions. The same conclusions above will be drawn here, as it is shown to be that the number of high growth rate matrices is very small."
   ]
  }
 ],
 "metadata": {
  "kernelspec": {
   "display_name": "Python 3",
   "language": "python",
   "name": "python3"
  },
  "language_info": {
   "codemirror_mode": {
    "name": "ipython",
    "version": 3
   },
   "file_extension": ".py",
   "mimetype": "text/x-python",
   "name": "python",
   "nbconvert_exporter": "python",
   "pygments_lexer": "ipython3",
   "version": "3.6.4"
  }
 },
 "nbformat": 4,
 "nbformat_minor": 2
}
